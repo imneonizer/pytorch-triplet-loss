{
 "cells": [
  {
   "cell_type": "markdown",
   "id": "fa5b98d4",
   "metadata": {},
   "source": [
    "### Birds Classification - Pytorch Metric Learning"
   ]
  },
  {
   "cell_type": "markdown",
   "id": "688cd21e",
   "metadata": {},
   "source": [
    "#### 1. Download dataset\n",
    "https://www.kaggle.com/datasets/gpiosenka/100-bird-species"
   ]
  },
  {
   "cell_type": "code",
   "execution_count": null,
   "id": "da9dd304",
   "metadata": {},
   "outputs": [],
   "source": [
    "# Click on the link above, login to kaggle and hit download button then copy the download url below\n",
    "!wget -O archive.zip \"<Dataset-URL>\"\n",
    "!unzip archive.zip -d dataset && rm -rf archive.zip"
   ]
  },
  {
   "cell_type": "markdown",
   "id": "20cd005e",
   "metadata": {},
   "source": [
    "#### 2. Training"
   ]
  },
  {
   "cell_type": "code",
   "execution_count": 1,
   "id": "843d9748",
   "metadata": {},
   "outputs": [],
   "source": [
    "import os\n",
    "import json\n",
    "import torch\n",
    "import PIL\n",
    "from model.AlexNet import AlexNet\n",
    "from utils.dataset import build_dataloader\n",
    "from utils.common import get_all_embeddings, get_accuracy, log_to_file\n",
    "from pytorch_metric_learning import distances, losses, miners, reducers, testers\n",
    "from pytorch_metric_learning.utils.accuracy_calculator import AccuracyCalculator\n",
    "from torchvision import datasets, transforms\n",
    "from multiprocessing import cpu_count\n",
    "\n",
    "torch.backends.cudnn.benchmark = True"
   ]
  },
  {
   "cell_type": "code",
   "execution_count": 10,
   "id": "25f9c121",
   "metadata": {},
   "outputs": [],
   "source": [
    "# Constants\n",
    "EPOCHS = 300\n",
    "BATCH_SIZE = 1024\n",
    "\n",
    "IMAGE_SIZE = 128\n",
    "EMBEDDING_SIZE = 64\n",
    "\n",
    "MEAN = [0.485, 0.456, 0.406]\n",
    "STD = [0.229, 0.224, 0.225]\n",
    "\n",
    "DEVICE = torch.device(\"cuda:0\")\n",
    "TRAIN_DATASET = \"./dataset/train\"\n",
    "VAL_DATASET = \"./dataset/valid\"\n",
    "SAVE_PATH = \"./weights\"\n",
    "\n",
    "# Image transformations\n",
    "transform = transforms.Compose([\n",
    "    transforms.ToTensor(),\n",
    "    transforms.Resize((IMAGE_SIZE, IMAGE_SIZE)),\n",
    "    transforms.Normalize(MEAN, STD),\n",
    "])\n",
    "\n",
    "# Train Dataloader\n",
    "train_dataset, train_loader = build_dataloader(\n",
    "    batch_size=BATCH_SIZE,\n",
    "    root_dir=TRAIN_DATASET,\n",
    "    transform=transform,\n",
    "    shuffle=True,\n",
    "    num_workers=cpu_count()\n",
    ")\n",
    "\n",
    "# Val Dataloader\n",
    "val_dataset, val_loader = build_dataloader(\n",
    "    batch_size=BATCH_SIZE,\n",
    "    root_dir=VAL_DATASET,\n",
    "    transform=transform,\n",
    "    shuffle=False,\n",
    "    num_workers=cpu_count()\n",
    ")"
   ]
  },
  {
   "cell_type": "code",
   "execution_count": 3,
   "id": "a760f14c",
   "metadata": {},
   "outputs": [],
   "source": [
    "# Define model\n",
    "model = AlexNet(input_size=IMAGE_SIZE, embedding_size=EMBEDDING_SIZE, pretrained=True).to(DEVICE)\n",
    "optimizer = torch.optim.Adam(model.parameters(), lr=0.001)\n",
    "\n",
    "# Define triplet loss utility functions\n",
    "distance = distances.CosineSimilarity()\n",
    "reducer = reducers.ThresholdReducer(low=0)\n",
    "loss_func = losses.TripletMarginLoss(margin=0.2, distance=distance, reducer=reducer)\n",
    "mining_func = miners.TripletMarginMiner(margin=0.2, distance=distance, type_of_triplets=\"semihard\")"
   ]
  },
  {
   "cell_type": "code",
   "execution_count": 4,
   "id": "bc3b06d3",
   "metadata": {},
   "outputs": [
    {
     "data": {
      "text/plain": [
       "<All keys matched successfully>"
      ]
     },
     "execution_count": 4,
     "metadata": {},
     "output_type": "execute_result"
    }
   ],
   "source": [
    "# load pretrained weights, if you want to continue training\n",
    "model.load_state_dict(torch.load(\"./weights/model_best.pth\", map_location=DEVICE))"
   ]
  },
  {
   "cell_type": "code",
   "execution_count": 11,
   "id": "ee533103",
   "metadata": {},
   "outputs": [],
   "source": [
    "history = {\"train\": [], \"val\": [], \"best_accuracy\": 0.0}\n",
    "os.makedirs(SAVE_PATH, exist_ok=True)\n",
    "if os.path.exists(\"training.log\"):\n",
    "    os.remove(\"training.log\")"
   ]
  },
  {
   "cell_type": "code",
   "execution_count": null,
   "id": "3bbebdfe",
   "metadata": {},
   "outputs": [],
   "source": [
    "for epoch in range(0, EPOCHS):\n",
    "    epoch += 1\n",
    "\n",
    "    # Model training\n",
    "    model.to(DEVICE)\n",
    "    model.train()\n",
    "    \n",
    "    for batch_idx, (data, labels) in enumerate(train_loader):\n",
    "        data, labels = data.to(DEVICE), labels.to(DEVICE)\n",
    "        \n",
    "        optimizer.zero_grad()\n",
    "        embeddings = model(data)\n",
    "        indices_tuple = mining_func(embeddings, labels)\n",
    "        loss = loss_func(embeddings, labels, indices_tuple)\n",
    "        loss.backward()\n",
    "        optimizer.step()\n",
    "\n",
    "        if batch_idx % 20 == 0:\n",
    "            history[\"train\"].append({\"epoch\": epoch, \"loss\": loss.item(), \"triplets\": mining_func.num_triplets})\n",
    "            msg = f\"Epoch [{epoch}/{EPOCHS}] Iter [{batch_idx}/{len(train_loader)}], Loss: {loss.item()}, Triplets: {mining_func.num_triplets}\"\n",
    "            log_to_file(msg)\n",
    "            print(msg)\n",
    "    \n",
    "    # evaluate after n epochs\n",
    "    if epoch %2 == 0:\n",
    "        # model validation\n",
    "        model.eval()\n",
    "        \n",
    "        with torch.no_grad():\n",
    "            # as all embeddings need to be stored in memory\n",
    "            # you can set DEVICE = torch.device('cpu') in case gpu memory overflow occurs\n",
    "            accuracy = get_accuracy(val_dataset, train_dataset, model, DEVICE)\n",
    "            \n",
    "            history[\"val\"].append({\"epoch\": epoch, \"accuracy\": accuracy})\n",
    "            msg = f\"Val accuracy: {accuracy}\"\n",
    "            log_to_file(msg)\n",
    "            print(msg)\n",
    "            \n",
    "            # save model\n",
    "            torch.save(model.state_dict(), f\"{SAVE_PATH}/model_latest.pth\")\n",
    "            \n",
    "            if accuracy >= history[\"best_accuracy\"]:\n",
    "                history[\"best_accuracy\"] = accuracy\n",
    "                torch.save(model.state_dict(), f\"{SAVE_PATH}/model_best.pth\")\n",
    "\n",
    "            with open(\"history.json\", \"w\") as f:\n",
    "                f.write(json.dumps(history))"
   ]
  }
 ],
 "metadata": {
  "kernelspec": {
   "display_name": "Python 3",
   "language": "python",
   "name": "python3"
  },
  "language_info": {
   "codemirror_mode": {
    "name": "ipython",
    "version": 3
   },
   "file_extension": ".py",
   "mimetype": "text/x-python",
   "name": "python",
   "nbconvert_exporter": "python",
   "pygments_lexer": "ipython3",
   "version": "3.8.5"
  },
  "vscode": {
   "interpreter": {
    "hash": "31f2aee4e71d21fbe5cf8b01ff0e069b9275f58929596ceb00d14d90e3e16cd6"
   }
  }
 },
 "nbformat": 4,
 "nbformat_minor": 5
}
